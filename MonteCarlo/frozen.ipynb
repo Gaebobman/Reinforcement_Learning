{
 "cells": [
  {
   "cell_type": "code",
   "execution_count": 1,
   "metadata": {},
   "outputs": [],
   "source": [
    "import gym\n",
    "from gym import wrappers\n",
    "import numpy as np\n",
    "import matplotlib.pyplot as plt"
   ]
  },
  {
   "cell_type": "code",
   "execution_count": 2,
   "metadata": {},
   "outputs": [],
   "source": [
    "success_per_episode_dict = {}"
   ]
  },
  {
   "cell_type": "code",
   "execution_count": 3,
   "metadata": {},
   "outputs": [
    {
     "name": "stderr",
     "output_type": "stream",
     "text": [
      "<>:52: SyntaxWarning: \"is not\" with a literal. Did you mean \"!=\"?\n",
      "<>:52: SyntaxWarning: \"is not\" with a literal. Did you mean \"!=\"?\n",
      "C:\\Users\\stand\\AppData\\Local\\Temp\\ipykernel_12480\\3939217676.py:52: SyntaxWarning: \"is not\" with a literal. Did you mean \"!=\"?\n",
      "  if i % 500 == 0 and i is not 0:\n"
     ]
    }
   ],
   "source": [
    "def cross_lake(alpha=0.1, epsilon=0.2):\n",
    "    print(f'alpha: {alpha}, epsilon: {epsilon}')\n",
    "    '''\n",
    "    Wrappers will allow us to add functionality to environments, such as modifying\n",
    "    observations and rewards to be fed to our agent.\n",
    "    '''\n",
    "    # deterministic state transition\n",
    "    env = gym.make('FrozenLake-v0', is_slippery=False)  \n",
    "    # Monitor can write information about your agent’s performance in a file\n",
    "    env = wrappers.Monitor(env, './frozen_lake_results', force=True)\n",
    "\n",
    "    # Action value initialization\n",
    "    Q = np.zeros([env.observation_space.n, env.action_space.n])\n",
    "    # to compute the number of visits for (state, action) pairs\n",
    "    n_s_a = np.zeros([env.observation_space.n, env.action_space.n])\n",
    "\n",
    "    num_episodes = 100000\n",
    "    # epsilon = 0.2\n",
    "    # to record the return at the starting point for all episodes.  [0, 1] (fail, success)\n",
    "    rList = []\n",
    "    success_per_episode_list = [0]\n",
    "    for i in range(num_episodes):\n",
    "        state = env.reset()\n",
    "        rAll = 0\n",
    "        # done is True when the agent reaches to the hole or goal.\n",
    "        done = False        \n",
    "        # to record the (state, action) trace for the current episode.\n",
    "        results_list = []\n",
    "        result_sum = 0.0\n",
    "        while not done:\n",
    "            if np.random.rand() < epsilon:\n",
    "                # Random action selection\n",
    "                action = env.action_space.sample()\n",
    "            else:\n",
    "                # Greedy action selection\n",
    "                action = np.argmax(Q[state, :])\n",
    "            new_state, reward, done, _ = env.step(action)\n",
    "            # Append (state, action) for tracing\n",
    "            results_list.append((state, action))\n",
    "            # Sum of rewards (What is the discount value?)\n",
    "            result_sum += reward\n",
    "            state = new_state\n",
    "            rAll += reward\n",
    "        rList.append(rAll)\n",
    "        for (state, action) in results_list:\n",
    "            # First visit MC on every-visit \n",
    "            n_s_a[state, action] += 1.0\n",
    "            # variable or constant step size?\n",
    "            # Uncomment under line for constant step size\n",
    "            # alpha = 1.0 / n_s_a[state, action]\n",
    "            Q[state, action] += alpha * (result_sum - Q[state, action])\n",
    "        if i % 500 == 0 and i is not 0:\n",
    "            # i: Variable alpha\n",
    "            success_rate = sum(rList) / i\n",
    "            success_per_episode_list.append(success_rate)\n",
    "            # print(f\"Success rate of {i}th episode: {success_rate:.3f}\")\n",
    "                 \n",
    "    avg_success_rate = sum(rList) / num_episodes\n",
    "    # print(f\"Average Success rate: {avg_success_rate:.3f}\")\n",
    "    success_per_episode_list.append(avg_success_rate)\n",
    "    success_per_episode_dict[(alpha, epsilon)] = success_per_episode_list\n",
    "    \n",
    "    env.close()"
   ]
  },
  {
   "cell_type": "code",
   "execution_count": 6,
   "metadata": {},
   "outputs": [
    {
     "name": "stdout",
     "output_type": "stream",
     "text": [
      "alpha: 1e-06, epsilon: 0.2\n",
      "alpha: 1e-06, epsilon: 0.3\n",
      "alpha: 1e-06, epsilon: 0.4\n",
      "alpha: 1e-06, epsilon: 0.5\n",
      "alpha: 0.0333342, epsilon: 0.2\n",
      "alpha: 0.0333342, epsilon: 0.3\n",
      "alpha: 0.0333342, epsilon: 0.4\n",
      "alpha: 0.0333342, epsilon: 0.5\n",
      "alpha: 0.0666674, epsilon: 0.2\n",
      "alpha: 0.0666674, epsilon: 0.3\n",
      "alpha: 0.0666674, epsilon: 0.4\n",
      "alpha: 0.0666674, epsilon: 0.5\n",
      "alpha: 0.1000007, epsilon: 0.2\n",
      "alpha: 0.1000007, epsilon: 0.3\n",
      "alpha: 0.1000007, epsilon: 0.4\n",
      "alpha: 0.1000007, epsilon: 0.5\n",
      "alpha: 0.1333339, epsilon: 0.2\n",
      "alpha: 0.1333339, epsilon: 0.3\n",
      "alpha: 0.1333339, epsilon: 0.4\n",
      "alpha: 0.1333339, epsilon: 0.5\n",
      "alpha: 0.1666671, epsilon: 0.2\n",
      "alpha: 0.1666671, epsilon: 0.3\n",
      "alpha: 0.1666671, epsilon: 0.4\n",
      "alpha: 0.1666671, epsilon: 0.5\n",
      "alpha: 0.2000003, epsilon: 0.2\n",
      "alpha: 0.2000003, epsilon: 0.3\n",
      "alpha: 0.2000003, epsilon: 0.4\n",
      "alpha: 0.2000003, epsilon: 0.5\n",
      "alpha: 0.2333336, epsilon: 0.2\n",
      "alpha: 0.2333336, epsilon: 0.3\n",
      "alpha: 0.2333336, epsilon: 0.4\n",
      "alpha: 0.2333336, epsilon: 0.5\n",
      "alpha: 0.2666668, epsilon: 0.2\n",
      "alpha: 0.2666668, epsilon: 0.3\n",
      "alpha: 0.2666668, epsilon: 0.4\n",
      "alpha: 0.2666668, epsilon: 0.5\n",
      "alpha: 0.3, epsilon: 0.2\n",
      "alpha: 0.3, epsilon: 0.3\n",
      "alpha: 0.3, epsilon: 0.4\n",
      "alpha: 0.3, epsilon: 0.5\n"
     ]
    }
   ],
   "source": [
    "alpha_list= [round(i, 7) for i in np.linspace(0.000001, 0.3, 10).tolist()]\n",
    "eplison_list = [0.2, 0.3, 0.4, 0.5]\n",
    "for alpha in alpha_list:\n",
    "    for epsilon in eplison_list:\n",
    "        cross_lake(alpha, epsilon)\n"
   ]
  },
  {
   "cell_type": "code",
   "execution_count": 8,
   "metadata": {},
   "outputs": [],
   "source": [
    "import pickle\n",
    "with open('success_per_episode_dict.pickle', 'wb') as f:\n",
    "    pickle.dump(success_per_episode_dict, f, pickle.HIGHEST_PROTOCOL)"
   ]
  },
  {
   "cell_type": "code",
   "execution_count": 13,
   "metadata": {},
   "outputs": [],
   "source": [
    "plt.figure(figsize=(10, 8))\n",
    "x = [i for i in range(0, 100001, 500)]\n",
    "iter_num = 0\n",
    "for alpha in alpha_list:\n",
    "    for epsilon in eplison_list:\n",
    "        value = success_per_episode_dict[(alpha, epsilon)]\n",
    "        # plt.plot(x, value, label=f'alpha: {alpha}, epsilon: {epsilon}')\n",
    "        plt.plot(x, value, label=f'alpha: {alpha}, epsilon: {epsilon}, final value: {value[-1]}')\n",
    "        plt.legend()\n",
    "    # To plot the graph uncomment the below line \n",
    "    # plt.show()\n",
    "    # To save the graph\n",
    "    plt.savefig(f'./plot_res/result_{iter_num}.png')\n",
    "    iter_num += 1\n",
    "    plt.close()  "
   ]
  },
  {
   "cell_type": "code",
   "execution_count": 17,
   "metadata": {},
   "outputs": [
    {
     "name": "stdout",
     "output_type": "stream",
     "text": [
      "alpha: 1e-06, epsilon: 0.05\n",
      "alpha: 1e-06, epsilon: 0.1\n",
      "alpha: 1e-06, epsilon: 0.15\n",
      "alpha: 1e-06, epsilon: 0.2\n",
      "alpha: 0.0333342, epsilon: 0.05\n",
      "alpha: 0.0333342, epsilon: 0.1\n",
      "alpha: 0.0333342, epsilon: 0.15\n",
      "alpha: 0.0333342, epsilon: 0.2\n",
      "alpha: 0.0666674, epsilon: 0.05\n",
      "alpha: 0.0666674, epsilon: 0.1\n",
      "alpha: 0.0666674, epsilon: 0.15\n",
      "alpha: 0.0666674, epsilon: 0.2\n",
      "alpha: 0.1000007, epsilon: 0.05\n",
      "alpha: 0.1000007, epsilon: 0.1\n",
      "alpha: 0.1000007, epsilon: 0.15\n",
      "alpha: 0.1000007, epsilon: 0.2\n",
      "alpha: 0.1333339, epsilon: 0.05\n",
      "alpha: 0.1333339, epsilon: 0.1\n",
      "alpha: 0.1333339, epsilon: 0.15\n",
      "alpha: 0.1333339, epsilon: 0.2\n",
      "alpha: 0.1666671, epsilon: 0.05\n",
      "alpha: 0.1666671, epsilon: 0.1\n",
      "alpha: 0.1666671, epsilon: 0.15\n",
      "alpha: 0.1666671, epsilon: 0.2\n",
      "alpha: 0.2000003, epsilon: 0.05\n",
      "alpha: 0.2000003, epsilon: 0.1\n",
      "alpha: 0.2000003, epsilon: 0.15\n",
      "alpha: 0.2000003, epsilon: 0.2\n",
      "alpha: 0.2333336, epsilon: 0.05\n",
      "alpha: 0.2333336, epsilon: 0.1\n",
      "alpha: 0.2333336, epsilon: 0.15\n",
      "alpha: 0.2333336, epsilon: 0.2\n",
      "alpha: 0.2666668, epsilon: 0.05\n",
      "alpha: 0.2666668, epsilon: 0.1\n",
      "alpha: 0.2666668, epsilon: 0.15\n",
      "alpha: 0.2666668, epsilon: 0.2\n",
      "alpha: 0.3, epsilon: 0.05\n",
      "alpha: 0.3, epsilon: 0.1\n",
      "alpha: 0.3, epsilon: 0.15\n",
      "alpha: 0.3, epsilon: 0.2\n"
     ]
    }
   ],
   "source": [
    "# Since the results were poor, I tried to use diffent epsilon values\n",
    "\n",
    "alpha_list= [round(i, 7) for i in np.linspace(0.000001, 0.3, 10).tolist()]\n",
    "eplison_list = [0.05, 0.1, 0.15, 0.2]\n",
    "for alpha in alpha_list:\n",
    "    for epsilon in eplison_list:\n",
    "        cross_lake(alpha, epsilon)\n",
    "\n",
    "\n",
    "\n",
    "plt.figure(figsize=(10, 8))\n",
    "x = [i for i in range(0, 100001, 500)]\n",
    "iter_num = 0\n",
    "for alpha in alpha_list:\n",
    "    for epsilon in eplison_list:\n",
    "        value = success_per_episode_dict[(alpha, epsilon)]\n",
    "        # plt.plot(x, value, label=f'alpha: {alpha}, epsilon: {epsilon}')\n",
    "        plt.plot(x, value, label=f'alpha: {alpha}, epsilon: {epsilon}, final value: {value[-1]}')\n",
    "        plt.legend()\n",
    "    # To plot the graph uncomment the below line \n",
    "    # plt.show()\n",
    "    # To save the graph\n",
    "    plt.savefig(f'./plot_res0/result_{iter_num}.png')\n",
    "    iter_num += 1\n",
    "    plt.close()  "
   ]
  },
  {
   "cell_type": "code",
   "execution_count": null,
   "metadata": {},
   "outputs": [],
   "source": [
    "with open('success_per_episode_dict1.pickle', 'wb') as f:\n",
    "    pickle.dump(success_per_episode_dict, f, pickle.HIGHEST_PROTOCOL)"
   ]
  },
  {
   "cell_type": "code",
   "execution_count": null,
   "metadata": {},
   "outputs": [],
   "source": []
  }
 ],
 "metadata": {
  "kernelspec": {
   "display_name": "reinforce",
   "language": "python",
   "name": "python3"
  },
  "language_info": {
   "codemirror_mode": {
    "name": "ipython",
    "version": 3
   },
   "file_extension": ".py",
   "mimetype": "text/x-python",
   "name": "python",
   "nbconvert_exporter": "python",
   "pygments_lexer": "ipython3",
   "version": "3.10.13"
  },
  "orig_nbformat": 4
 },
 "nbformat": 4,
 "nbformat_minor": 2
}
