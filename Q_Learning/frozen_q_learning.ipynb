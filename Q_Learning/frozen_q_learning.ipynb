{
 "cells": [
  {
   "cell_type": "code",
   "execution_count": null,
   "metadata": {},
   "outputs": [],
   "source": [
    "import gym\n",
    "import numpy as np\n",
    "import matplotlib.pyplot as plt"
   ]
  },
  {
   "cell_type": "code",
   "execution_count": null,
   "metadata": {},
   "outputs": [],
   "source": [
    "SEED = 1314\n",
    "\n",
    "def q_learning(LR, DSCT, RES_IDX):\n",
    "    NUM_EP = 2000\n",
    "    env = gym.make('FrozenLake-v0')\n",
    "    Q = np.zeros([env.observation_space.n, env.action_space.n])\n",
    "    rList = []\n",
    "    \n",
    "    for i in range(NUM_EP):\n",
    "        env.seed(SEED)\n",
    "        state = env.reset()\n",
    "        rAll = 0\n",
    "        done = False\n",
    "\n",
    "        while not done:\n",
    "            # add decaying-random noise\n",
    "            # standard normal random, (1 x num_of_actions) array\n",
    "            action = np.argmax(Q[state, :] + np.random.randn(1, env.action_space.n) / (i + 1))\n",
    "            new_state, reward, done, _ = env.step(action)\n",
    "            Q[state, action] = (1-LR) * Q[state, action] + LR * (reward + DSCT * np.max(Q[new_state, :]))\n",
    "            state = new_state\n",
    "            rAll += reward\n",
    "        rList.append(rAll)\n",
    "    score = str(sum(rList)/NUM_EP)\n",
    "    print(f\"Score over time: {score}\")\n",
    "    print(\"Final Q-Table Values\")\n",
    "    print(Q)        \n",
    "    plt.bar(range(len(rList)), rList, color='blue')\n",
    "    plt.title(f'Learning Rate: {(LR):.3f}, Discount: {DSCT}, Score: {score}')\n",
    "    plt.savefig(f'./plot_res/result_{RES_IDX}.png')\n",
    "    plt.show()\n",
    "    env.close()\n",
    "    \n",
    "learning_rate_list = [round(i, 3) for i in np.linspace(.8, .99, 5).tolist()]\n",
    "dis_list = [round(i, 3) for i in np.linspace(.8, .99, 5).tolist()]\n",
    "\n",
    "res_idx = 0\n",
    "for lr in learning_rate_list:\n",
    "    for dsct in dis_list:\n",
    "        q_learning(lr, dsct, res_idx) \n",
    "        res_idx += 1"
   ]
  }
 ],
 "metadata": {
  "kernelspec": {
   "display_name": "reinforce",
   "language": "python",
   "name": "python3"
  },
  "language_info": {
   "codemirror_mode": {
    "name": "ipython",
    "version": 3
   },
   "file_extension": ".py",
   "mimetype": "text/x-python",
   "name": "python",
   "nbconvert_exporter": "python",
   "pygments_lexer": "ipython3",
   "version": "3.10.13"
  }
 },
 "nbformat": 4,
 "nbformat_minor": 2
}
